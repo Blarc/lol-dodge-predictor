{
 "cells": [
  {
   "cell_type": "code",
   "execution_count": 3,
   "outputs": [],
   "source": [
    "import json\n",
    "import pandas as pd\n",
    "\n",
    "from roleidentification import get_roles, pull_data\n",
    "import cassiopeia as cass\n",
    "import pickle\n",
    "\n",
    "from IPython.display import clear_output\n",
    "\n",
    "from pprint import pprint"
   ],
   "metadata": {
    "collapsed": false,
    "pycharm": {
     "name": "#%%\n"
    }
   }
  },
  {
   "cell_type": "markdown",
   "source": [
    "We do this"
   ],
   "metadata": {
    "collapsed": false
   }
  },
  {
   "cell_type": "code",
   "execution_count": 4,
   "metadata": {
    "collapsed": true,
    "pycharm": {
     "name": "#%%\n"
    }
   },
   "outputs": [
    {
     "name": "stdout",
     "output_type": "stream",
     "text": [
      "217880 / 217883\n",
      "Number of summoners: 43583\n",
      "Saving to pickle...\n",
      "Saved to 'data/processed_data/summoners.pickle'\n",
      "Saving to csv...\n",
      "Saved to 'data/processed_data/summoners.csv'\n"
     ]
    }
   ],
   "source": [
    "NUMBER_OF_LINES = 217883\n",
    "champion_roles = pull_data()\n",
    "champions_mapper = {champion.id: champion.name for champion in cass.get_champions(\"EUW\")}\n",
    "\n",
    "summoners = {}\n",
    "\n",
    "summoners_columns_mapper = {\n",
    "    'total_games': 0,\n",
    "    'wins': 1\n",
    "}\n",
    "\n",
    "role_names = ['TOP', 'JUNGLE', 'MIDDLE', 'BOTTOM', 'UTILITY']\n",
    "columns_by_role = ['kills', 'deaths', 'assists', 'gold_earned', 'total_damage_dealt_to_champions',\n",
    "                   'total_minions_killed', 'vision_score', 'vision_wards_bought', 'total_games', 'wins']\n",
    "\n",
    "index = len(summoners_columns_mapper)\n",
    "for role_name in role_names:\n",
    "    for column in columns_by_role:\n",
    "        column_key = role_name + '_' + column\n",
    "        summoners_columns_mapper[column_key] = index\n",
    "        index += 1\n",
    "\n",
    "\n",
    "columns_mapper = {}\n",
    "index = 0\n",
    "\n",
    "with open('data/raw_data/match_all_merged.csv', encoding='utf8') as infile:\n",
    "    for line in infile:\n",
    "        split = line.rstrip('\\n').split(';')\n",
    "        if index == 0:\n",
    "            columns_mapper = {key: value for value, key in enumerate(split)}\n",
    "            index += 1\n",
    "            continue\n",
    "        \n",
    "        queue_id = float(split[columns_mapper['queueId']])\n",
    "        if queue_id != 420:\n",
    "            index += 1\n",
    "            continue\n",
    "\n",
    "        game_duration = float(split[columns_mapper['gameDuration']])\n",
    "\n",
    "        participant_identities = json.loads(split[columns_mapper['participantIdentities']]\\\n",
    "            .replace('\\'', '\\\"'))\n",
    "        participants = json.loads(split[columns_mapper['participants']]\\\n",
    "            .replace('\\'', '\\\"')\\\n",
    "            .replace('False', '0')\\\n",
    "            .replace('True', '1'))\n",
    "\n",
    "        champions = []\n",
    "        for participant in participants:\n",
    "            champions.append(participant['championId'])\n",
    "\n",
    "        roles = list(get_roles(champion_roles, champions[0:5]).items())\n",
    "        roles += list(get_roles(champion_roles, champions[5:10]).items())\n",
    "\n",
    "        for participantIdentity, participant, role in zip(participant_identities, participants, roles):\n",
    "\n",
    "            summoner_id = participantIdentity['player']['summonerId']\n",
    "            role_name = role[0]\n",
    "\n",
    "            participant_stats = participant['stats']\n",
    "            win = participant_stats['win']\n",
    "            kills = participant_stats['kills']\n",
    "            deaths = participant_stats['deaths']\n",
    "            assists = participant_stats['assists']\n",
    "            gold_earned = participant_stats['goldEarned']\n",
    "            total_damage_dealt_to_champions = participant_stats['totalDamageDealtToChampions']\n",
    "            total_minions_killed = participant_stats['totalMinionsKilled']\n",
    "            vision_score = participant_stats['visionScore']\n",
    "            vision_wards_bought = participant_stats['visionWardsBoughtInGame']\n",
    "\n",
    "            if summoner_id not in summoners:\n",
    "                summoners[summoner_id] = {key: 0 for key in summoners_columns_mapper}\n",
    "\n",
    "            summoners[summoner_id]['wins'] += win\n",
    "            summoners[summoner_id]['total_games'] += 1\n",
    "            summoners[summoner_id][role_name + '_wins'] += win\n",
    "            summoners[summoner_id][role_name + '_total_games'] += 1\n",
    "            summoners[summoner_id][role_name + '_kills'] += kills / game_duration * 60\n",
    "            summoners[summoner_id][role_name + '_deaths'] += deaths / game_duration * 60\n",
    "            summoners[summoner_id][role_name + '_assists'] += assists / game_duration * 60\n",
    "            summoners[summoner_id][role_name + '_gold_earned'] += gold_earned / game_duration * 60\n",
    "            summoners[summoner_id][role_name + '_total_damage_dealt_to_champions'] += total_damage_dealt_to_champions / game_duration * 60\n",
    "            summoners[summoner_id][role_name + '_total_minions_killed'] += total_minions_killed / game_duration * 60\n",
    "            summoners[summoner_id][role_name + '_vision_score'] += vision_score / game_duration * 60\n",
    "            summoners[summoner_id][role_name + '_vision_wards_bought'] += vision_wards_bought / game_duration * 60\n",
    "\n",
    "        clear_output(wait = True)\n",
    "        print(f'{index} / {NUMBER_OF_LINES}')\n",
    "        index += 1\n",
    "\n",
    "\n",
    "for summoner in summoners.values():\n",
    "    for role_name in role_names:\n",
    "            total_games = summoner[role_name + '_total_games']\n",
    "\n",
    "            if total_games == 0:\n",
    "                total_games += 1\n",
    "\n",
    "            summoner[role_name + '_wins'] /= total_games\n",
    "            summoner[role_name + '_kills'] /= total_games\n",
    "            summoner[role_name + '_deaths'] /= total_games\n",
    "            summoner[role_name + '_assists'] /= total_games\n",
    "            summoner[role_name + '_gold_earned'] /= total_games\n",
    "            summoner[role_name + '_total_damage_dealt_to_champions'] /= total_games\n",
    "            summoner[role_name + '_total_minions_killed'] /= total_games\n",
    "            summoner[role_name + '_vision_score'] /= total_games\n",
    "            summoner[role_name + '_vision_wards_bought'] /= total_games\n",
    "\n",
    "print(f'Number of summoners: {len(summoners)}')\n",
    "\n",
    "print('Saving to pickle...')\n",
    "with open('data/processed_data/summoners.pickle', 'wb') as handle:\n",
    "    pickle.dump(summoners, handle, protocol=pickle.HIGHEST_PROTOCOL)\n",
    "print('Saved to \\'data/processed_data/summoners.pickle\\'')\n",
    "\n",
    "print('Saving to csv...')\n",
    "pd.DataFrame.from_dict(data=summoners, orient='index').to_csv('data/processed_data/summoners.csv', header=True)\n",
    "print('Saved to \\'data/processed_data/summoners.csv\\'')"
   ]
  },
  {
   "cell_type": "code",
   "execution_count": 4,
   "outputs": [],
   "source": [],
   "metadata": {
    "collapsed": false,
    "pycharm": {
     "name": "#%%\n"
    }
   }
  }
 ],
 "metadata": {
  "kernelspec": {
   "display_name": "Python 3",
   "language": "python",
   "name": "python3"
  },
  "language_info": {
   "codemirror_mode": {
    "name": "ipython",
    "version": 2
   },
   "file_extension": ".py",
   "mimetype": "text/x-python",
   "name": "python",
   "nbconvert_exporter": "python",
   "pygments_lexer": "ipython2",
   "version": "2.7.6"
  }
 },
 "nbformat": 4,
 "nbformat_minor": 0
}