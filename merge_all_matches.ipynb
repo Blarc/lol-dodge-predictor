{
 "cells": [
  {
   "cell_type": "code",
   "execution_count": 1,
   "metadata": {
    "collapsed": true,
    "pycharm": {
     "name": "#%%\n"
    }
   },
   "outputs": [],
   "source": [
    "import pandas as pd"
   ]
  },
  {
   "cell_type": "markdown",
   "source": [
    "## Data\n",
    "\n",
    "We get data from Kaggle and read it, using Pandas."
   ],
   "metadata": {
    "collapsed": false
   }
  },
  {
   "cell_type": "code",
   "execution_count": 2,
   "outputs": [],
   "source": [
    "match_df = pd.read_pickle('data/raw_data/match_data_version1.pickle')\n",
    "winner_df = pd.read_pickle('data/raw_data/match_winner_data_version1.pickle')\n",
    "loser_df = pd.read_pickle('data/raw_data/match_loser_data_version1.pickle')"
   ],
   "metadata": {
    "collapsed": false,
    "pycharm": {
     "name": "#%%\n"
    }
   }
  },
  {
   "cell_type": "markdown",
   "source": [
    "Since the data we get from Kaggle is split to winning and losing matches, we merge them together."
   ],
   "metadata": {
    "collapsed": false,
    "pycharm": {
     "name": "#%% md\n"
    }
   }
  },
  {
   "cell_type": "code",
   "execution_count": 3,
   "outputs": [
    {
     "name": "stdout",
     "output_type": "stream",
     "text": [
      "Saving...\n",
      "Saved!\n"
     ]
    }
   ],
   "source": [
    "match_winner_merged_df = pd.merge(match_df, winner_df, on='gameId', how='left')\n",
    "match_loser_merged_df = pd.merge(match_df, loser_df, on='gameId', how='left')\n",
    "match_all_merged_df = pd.concat([match_loser_merged_df, match_winner_merged_df], ignore_index=True)\n",
    "\n",
    "print(\"Saving...\")\n",
    "\n",
    "# match_all_merged_df.to_pickle('data/raw_data/match_all_merged.pickle')\n",
    "match_all_merged_df.to_csv('data/raw_data/match_all_merged.csv', sep=';')\n",
    "\n",
    "print(\"Saved!\")"
   ],
   "metadata": {
    "collapsed": false,
    "pycharm": {
     "name": "#%%\n"
    }
   }
  }
 ],
 "metadata": {
  "kernelspec": {
   "display_name": "Python 3",
   "language": "python",
   "name": "python3"
  },
  "language_info": {
   "codemirror_mode": {
    "name": "ipython",
    "version": 2
   },
   "file_extension": ".py",
   "mimetype": "text/x-python",
   "name": "python",
   "nbconvert_exporter": "python",
   "pygments_lexer": "ipython2",
   "version": "2.7.6"
  }
 },
 "nbformat": 4,
 "nbformat_minor": 0
}