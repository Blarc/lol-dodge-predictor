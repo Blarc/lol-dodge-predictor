{
 "cells": [
  {
   "cell_type": "code",
   "execution_count": 13,
   "outputs": [],
   "source": [
    "from time import time\n",
    "\n",
    "import pandas as pd\n",
    "import matplotlib.pyplot as plt\n",
    "import numpy as np\n",
    "from sklearn import tree\n",
    "from sklearn.ensemble import RandomForestClassifier\n",
    "from sklearn.linear_model import LogisticRegression\n",
    "from sklearn.metrics import accuracy_score\n",
    "from sklearn.model_selection import train_test_split"
   ],
   "metadata": {
    "collapsed": false,
    "pycharm": {
     "name": "#%%\n"
    }
   }
  },
  {
   "cell_type": "code",
   "execution_count": 2,
   "outputs": [],
   "source": [
    "from sklearn.naive_bayes import GaussianNB\n",
    "df = pd.read_csv('./data/processed_data/matches_sorted.csv')"
   ],
   "metadata": {
    "collapsed": false,
    "pycharm": {
     "name": "#%%\n"
    }
   }
  },
  {
   "cell_type": "code",
   "execution_count": 3,
   "outputs": [],
   "source": [
    "# removes the index column\n",
    "df.drop(df.columns[0], axis=1, inplace=True)\n",
    "\n",
    "# removes rows with Null / Nan values\n",
    "df.dropna(inplace=True)\n",
    "\n",
    "# replace win with boolean\n",
    "df['win'].replace({1: True, 0: False}, inplace=True)\n"
   ],
   "metadata": {
    "collapsed": false,
    "pycharm": {
     "name": "#%%\n"
    }
   }
  },
  {
   "cell_type": "code",
   "execution_count": 4,
   "outputs": [
    {
     "name": "stdout",
     "output_type": "stream",
     "text": [
      "Training data length: 93806\n",
      "Test data lenght: 62538\n",
      "Sum: 156344\n"
     ]
    }
   ],
   "source": [
    "X_train, X_test, y_train, y_test = train_test_split(df.iloc[:, :-1], df.iloc[:, -1], test_size=0.4, random_state=0)\n",
    "\n",
    "print(f\"Training data length: {len(X_train)}\")\n",
    "print(f\"Test data lenght: {len(X_test)}\")\n",
    "print(f\"Sum: {len(X_test) + len(X_train)}\")"
   ],
   "metadata": {
    "collapsed": false,
    "pycharm": {
     "name": "#%%\n"
    }
   }
  },
  {
   "cell_type": "code",
   "execution_count": 5,
   "outputs": [
    {
     "name": "stdout",
     "output_type": "stream",
     "text": [
      "GaussianNB\n",
      "Test accuracy score: 0.7788064856567207\n",
      "Time: 1.225576400756836\n",
      "DecisionTreeClassifier\n",
      "Test accuracy score: 0.7666698647222489\n",
      "Time: 43.46630668640137\n",
      "RandomForestClassifier\n",
      "Test accuracy score: 0.8158079887428443\n",
      "Time: 135.91956901550293\n",
      "LogisticRegression\n",
      "Test accuracy score: 0.8227477693562314\n",
      "Time: 397.3680703639984\n"
     ]
    }
   ],
   "source": [
    "models = [\n",
    "    GaussianNB(),\n",
    "    tree.DecisionTreeClassifier(min_samples_split=10, criterion='entropy'),\n",
    "    RandomForestClassifier(),\n",
    "    LogisticRegression(solver='liblinear', max_iter=500, random_state=0)\n",
    "]\n",
    "\n",
    "model_times = [0.0, 0.0, 0.0, 0.0]\n",
    "model_accuracies = [0.0, 0.0, 0.0, 0.0]\n",
    "\n",
    "for index, model in enumerate(models):\n",
    "    print(type(model).__name__)\n",
    "    start_time = time()\n",
    "\n",
    "    model.fit(X_train, y_train)\n",
    "    predicted = model.predict(X_test)\n",
    "\n",
    "    model_time = time() - start_time\n",
    "    model_times[index] = model_time\n",
    "\n",
    "    acc = accuracy_score(y_test, predicted)\n",
    "    model_accuracies[index] = acc\n",
    "\n",
    "    print(f'Test accuracy score: {acc}')\n",
    "    print(f'Time: {model_time}')"
   ],
   "metadata": {
    "collapsed": false,
    "pycharm": {
     "name": "#%%\n"
    }
   }
  },
  {
   "cell_type": "code",
   "execution_count": 43,
   "outputs": [
    {
     "data": {
      "text/plain": "<Figure size 432x288 with 1 Axes>",
      "image/png": "[encoded data removed]"
     },
     "metadata": {
      "needs_background": "light"
     },
     "output_type": "display_data"
    }
   ],
   "source": [
    "model_names = [type(model).__name__ for model in models]\n",
    "\n",
    "fix, ax = plt.subplots()\n",
    "ax.set_ylabel('Accuracy')\n",
    "ax.set_xlabel('Time spent for building the model')\n",
    "colors = ['yellow', 'green', 'red', 'blue']\n",
    "\n",
    "scatters = []\n",
    "for model_time, model_accuracy, color in zip(model_times, model_accuracies, range(0, 4)):\n",
    "    scatters.append(ax.scatter(model_time, model_accuracy, c=colors[color]))\n",
    "\n",
    "legend = ax.legend(scatters, model_names, title='Classifiers')\n",
    "\n",
    "plt.savefig('figs/time_comparison.png')\n",
    "plt.show()"
   ],
   "metadata": {
    "collapsed": false,
    "pycharm": {
     "name": "#%%\n"
    }
   }
  }
 ],
 "metadata": {
  "kernelspec": {
   "display_name": "Python 3",
   "language": "python",
   "name": "python3"
  },
  "language_info": {
   "codemirror_mode": {
    "name": "ipython",
    "version": 2
   },
   "file_extension": ".py",
   "mimetype": "text/x-python",
   "name": "python",
   "nbconvert_exporter": "python",
   "pygments_lexer": "ipython2",
   "version": "2.7.6"
  }
 },
 "nbformat": 4,
 "nbformat_minor": 0
}