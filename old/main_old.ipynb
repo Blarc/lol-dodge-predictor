{
 "cells": [
  {
   "cell_type": "code",
   "execution_count": null,
   "metadata": {
    "collapsed": true
   },
   "outputs": [],
   "source": [
    "from time import time\n",
    "from pprint import pprint\n",
    "\n",
    "import pandas as pd\n",
    "\n",
    "from riotapi import *\n",
    "from helper_functions import *"
   ]
  },
  {
   "cell_type": "markdown",
   "source": [
    "## Data\n",
    "\n",
    "We get 100 players from diamond 1."
   ],
   "metadata": {
    "collapsed": false,
    "pycharm": {
     "name": "#%% md\n"
    }
   }
  },
  {
   "cell_type": "code",
   "source": [
    "summoner_name = \"Unlucky Flip\"\n",
    "\n",
    "GAMES = 2\n",
    "GAMES_PER_SUMMONER = 2"
   ],
   "metadata": {
    "collapsed": false,
    "pycharm": {
     "name": "#%%\n"
    }
   },
   "execution_count": null,
   "outputs": []
  },
  {
   "cell_type": "markdown",
   "source": [
    "We then loop through all the players and gather their data about recent solo ranked games and save them as csv."
   ],
   "metadata": {
    "collapsed": false,
    "pycharm": {
     "name": "#%% md\n"
    }
   }
  },
  {
   "cell_type": "code",
   "source": [
    "# champion, role, lane, win, kills, deaths, assists, total_damage_dealt_to_champions, vision_score, gold_earned, total_minions_killed, game_time\n",
    "match_list = []\n",
    "teammates_set = set()\n",
    "match_list_teammates = []\n",
    "\n",
    "\n",
    "summoner_data = get_summoner_by_username(summoner_name)\n",
    "account_id = summoner_data['accountId']\n",
    "summoner_id = summoner_data['id']\n",
    "summoner_win_rate = get_summoner_winrate(summoner_id)\n",
    "\n",
    "match_references = get_match_references_by_account_id(account_id, 0, GAMES)\n",
    "\n",
    "counter = 0\n",
    "for match_reference in match_references:\n",
    "    champion, role, lane, game_id = parse_match_reference(match_reference)\n",
    "    game = get_match_by_id_safe(game_id)\n",
    "\n",
    "    if game is not None:\n",
    "        participant_data, win = parse_participant_data(game, champion, role, lane, summoner_win_rate)\n",
    "        if counter < GAMES_PER_SUMMONER:\n",
    "            match_list.append(participant_data)\n",
    "\n",
    "        teammates = parse_teammates(game, champion)\n",
    "        teammates_set.update(teammates)\n",
    "        teammates.append(win)\n",
    "        match_list_teammates.append(teammates)\n",
    "\n",
    "save_match_to_csv(match_list, f'./data/{summoner_name}/match_lists/{summoner_name}.csv')\n",
    "save_match_teammates_to_csv(match_list_teammates, f'./data/{summoner_name}/match_list_teammates.csv')\n",
    "save_teammates_to_csv(teammates_set, f'./data/{summoner_name}/teammates.csv')\n",
    "\n",
    "for teammate in teammates_set:\n",
    "    match_list = []\n",
    "\n",
    "    match_references = get_match_references_by_account_id(teammate, 0, GAMES_PER_SUMMONER)\n",
    "    for match_reference in match_references:\n",
    "        champion, role, lane, game_id = parse_match_reference(match_reference)\n",
    "        game = get_match_by_id_safe(game_id)\n",
    "\n",
    "        # TODO add SUMMONER_WINRATE\n",
    "\n",
    "\n",
    "        if game is not None:\n",
    "            participant_data, _ = parse_participant_data(game, champion, role, lane)\n",
    "            match_list.append(participant_data)\n",
    "\n",
    "    save_match_to_csv(match_list, f'./data/{summoner_name}/match_lists/{teammate}.csv')\n",
    "\n",
    "\n",
    "print(\"Done!\")"
   ],
   "metadata": {
    "collapsed": false,
    "pycharm": {
     "name": "#%%\n"
    }
   },
   "execution_count": null,
   "outputs": []
  },
  {
   "cell_type": "code",
   "execution_count": null,
   "outputs": [],
   "source": [
    "\n"
   ],
   "metadata": {
    "collapsed": false,
    "pycharm": {
     "name": "#%%\n"
    }
   }
  }
 ],
 "metadata": {
  "kernelspec": {
   "display_name": "Python 3",
   "language": "python",
   "name": "python3"
  },
  "language_info": {
   "codemirror_mode": {
    "name": "ipython",
    "version": 2
   },
   "file_extension": ".py",
   "mimetype": "text/x-python",
   "name": "python",
   "nbconvert_exporter": "python",
   "pygments_lexer": "ipython2",
   "version": "2.7.6"
  }
 },
 "nbformat": 4,
 "nbformat_minor": 0
}