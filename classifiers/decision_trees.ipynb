{
 "cells": [
  {
   "cell_type": "code",
   "execution_count": 5,
   "metadata": {
    "collapsed": true
   },
   "outputs": [],
   "source": [
    "import matplotlib.pyplot as plt\n",
    "import pandas as pd\n",
    "from numpy import mean, std\n",
    "from sklearn import tree\n",
    "from sklearn.metrics import accuracy_score, plot_confusion_matrix\n",
    "from sklearn.model_selection import train_test_split, KFold, ShuffleSplit, cross_val_score"
   ]
  },
  {
   "cell_type": "code",
   "execution_count": 6,
   "outputs": [],
   "source": [
    "df = pd.read_csv('../data/processed_data/matches_sorted.csv')"
   ],
   "metadata": {
    "collapsed": false,
    "pycharm": {
     "name": "#%%\n"
    }
   }
  },
  {
   "cell_type": "code",
   "execution_count": 7,
   "outputs": [],
   "source": [
    "# removes the index column\n",
    "df.drop(df.columns[0], axis=1, inplace=True)\n",
    "\n",
    "# removes rows with Null / Nan values\n",
    "df.dropna(inplace=True)\n",
    "\n",
    "# replace win with boolean\n",
    "df['win'].replace({1: True, 0: False}, inplace=True)\n"
   ],
   "metadata": {
    "collapsed": false,
    "pycharm": {
     "name": "#%%\n"
    }
   }
  },
  {
   "cell_type": "code",
   "execution_count": 8,
   "outputs": [
    {
     "name": "stdout",
     "output_type": "stream",
     "text": [
      "Training data length: 93806\n",
      "Test data lenght: 62538\n",
      "Sum: 156344\n"
     ]
    }
   ],
   "source": [
    "X_train, X_test, y_train, y_test = train_test_split(df.iloc[:, :-1], df.iloc[:, -1], test_size=0.4, random_state=0)\n",
    "\n",
    "print(f\"Training data length: {len(X_train)}\")\n",
    "print(f\"Test data lenght: {len(X_test)}\")\n",
    "print(f\"Sum: {len(X_test) + len(X_train)}\")"
   ],
   "metadata": {
    "collapsed": false,
    "pycharm": {
     "name": "#%%\n"
    }
   }
  },
  {
   "cell_type": "markdown",
   "source": [
    "With min_sample_split = 2:"
   ],
   "metadata": {
    "collapsed": false
   }
  },
  {
   "cell_type": "code",
   "execution_count": 9,
   "outputs": [
    {
     "name": "stdout",
     "output_type": "stream",
     "text": [
      "Accuracy: 0.765 (0.002)\n"
     ]
    }
   ],
   "source": [
    "kfold_cv = KFold(n_splits=10, random_state=0, shuffle=True)\n",
    "shuffle_cv = ShuffleSplit(n_splits=10, test_size=0.3, random_state=0)\n",
    "\n",
    "model = tree.DecisionTreeClassifier(criterion='entropy')\n",
    "\n",
    "scores = cross_val_score(model, X_train, y_train, cv=shuffle_cv)\n",
    "\n",
    "print('Accuracy: %.3f (%.3f)' % (mean(scores), std(scores)))"
   ],
   "metadata": {
    "collapsed": false,
    "pycharm": {
     "name": "#%%\n"
    }
   }
  },
  {
   "cell_type": "code",
   "execution_count": 10,
   "outputs": [
    {
     "name": "stdout",
     "output_type": "stream",
     "text": [
      "Test accuracy score: 0.767757203620199\n"
     ]
    }
   ],
   "source": [
    "model_all = tree.DecisionTreeClassifier(criterion='entropy')\n",
    "model_all = model_all.fit(X_train, y_train)\n",
    "\n",
    "acc = accuracy_score(y_test, model_all.predict(X_test))\n",
    "\n",
    "print(f'Test accuracy score: {acc}')"
   ],
   "metadata": {
    "collapsed": false,
    "pycharm": {
     "name": "#%%\n"
    }
   }
  },
  {
   "cell_type": "markdown",
   "source": [
    "With min_sample_split = 10:\n"
   ],
   "metadata": {
    "collapsed": false
   }
  },
  {
   "cell_type": "code",
   "execution_count": 11,
   "outputs": [
    {
     "name": "stdout",
     "output_type": "stream",
     "text": [
      "Accuracy: 0.764 (0.001)\n"
     ]
    }
   ],
   "source": [
    "kfold_cv = KFold(n_splits=10, random_state=0, shuffle=True)\n",
    "shuffle_cv = ShuffleSplit(n_splits=10, test_size=0.3, random_state=0)\n",
    "\n",
    "model = tree.DecisionTreeClassifier(min_samples_split=10, criterion='entropy')\n",
    "\n",
    "scores = cross_val_score(model, X_train, y_train, cv=shuffle_cv)\n",
    "\n",
    "print('Accuracy: %.3f (%.3f)' % (mean(scores), std(scores)))"
   ],
   "metadata": {
    "collapsed": false,
    "pycharm": {
     "name": "#%%\n"
    }
   }
  },
  {
   "cell_type": "code",
   "execution_count": 12,
   "outputs": [
    {
     "name": "stdout",
     "output_type": "stream",
     "text": [
      "Test accuracy score: 0.7677412133422878\n"
     ]
    }
   ],
   "source": [
    "model_all = tree.DecisionTreeClassifier(min_samples_split=10, criterion='entropy')\n",
    "model_all = model_all.fit(X_train, y_train)\n",
    "\n",
    "acc = accuracy_score(y_test, model_all.predict(X_test))\n",
    "\n",
    "print(f'Test accuracy score: {acc}')"
   ],
   "metadata": {
    "collapsed": false,
    "pycharm": {
     "name": "#%%\n"
    }
   }
  },
  {
   "cell_type": "code",
   "execution_count": 14,
   "outputs": [
    {
     "data": {
      "text/plain": "<Figure size 432x288 with 2 Axes>",
      "image/png": "[encoded data removed]"
     },
     "metadata": {
      "needs_background": "light"
     },
     "output_type": "display_data"
    }
   ],
   "source": [
    "plot_confusion_matrix(model_all, X_test, y_test, cmap='magma', normalize='true')\n",
    "plt.savefig('../figs/decision_trees.png')\n",
    "plt.show()"
   ],
   "metadata": {
    "collapsed": false,
    "pycharm": {
     "name": "#%%\n"
    }
   }
  }
 ],
 "metadata": {
  "kernelspec": {
   "display_name": "Python 3",
   "language": "python",
   "name": "python3"
  },
  "language_info": {
   "codemirror_mode": {
    "name": "ipython",
    "version": 2
   },
   "file_extension": ".py",
   "mimetype": "text/x-python",
   "name": "python",
   "nbconvert_exporter": "python",
   "pygments_lexer": "ipython2",
   "version": "2.7.6"
  }
 },
 "nbformat": 4,
 "nbformat_minor": 0
}